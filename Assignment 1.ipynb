{
 "cells": [
  {
   "cell_type": "markdown",
   "id": "24689adc-f6e1-48ac-b095-ee232bf92b8f",
   "metadata": {},
   "source": [
    "# Assignment 1"
   ]
  },
  {
   "cell_type": "markdown",
   "id": "b5627689-5e72-455e-abc7-250dbf126518",
   "metadata": {},
   "source": [
    "## Introduction\n",
    "\n",
    "This is an introduction "
   ]
  },
  {
   "cell_type": "markdown",
   "id": "f404442f-7c4c-4505-b96e-6c4f11025817",
   "metadata": {},
   "source": [
    "- Python\n",
    "- R\n",
    "- Julia\n",
    "- Scala\n",
    "- C++\n",
    "- Javascript"
   ]
  },
  {
   "cell_type": "markdown",
   "id": "9d43a608-634d-4812-8d7c-011174500410",
   "metadata": {},
   "source": [
    "- Matplotlib\n",
    "- Numpy\n",
    "- Scipy\n",
    "- Scikit Learn\n",
    "- Keras\n",
    "- Pytorch\n",
    "- TensorFlow"
   ]
  },
  {
   "cell_type": "markdown",
   "id": "057d4dfb-a1a0-4934-a57d-b3f78657e5f9",
   "metadata": {},
   "source": [
    "**Data Management Tools** - Facilitates the storage, organization, and retrieval of data. Includes Relational Databases, NoSQL Databases, and Big Data platforms.\n",
    "- **Data Integration and Transformation Tools** - Streamlines data pipelines and automate data processing workflows. Task of data integration and transformation in the classic data warehousing world is to Extract, Transform, and Load (ETL).\n",
    "- **Data Visualization Tools**- Provides graphical representation of data and assist with communicating insights.\n",
    "- **Model Deployment, Monitoring and Assessment Tools**- Supports the building, deploying, monitoring, and evaluation of data and machine learning models.\n",
    "- **Data Asset Management Tools**- Organizes and manages data, enforce access controls, and ensure asset backups.\n",
    "- **Code Development and Execution Tools** - ProvideS environments for developing, testing, and deploying code, offering computational resources to execute it.\n",
    "- **Code Asset Management Tools** - Enables the storage and management of code, track changes, and support collaborative development."
   ]
  },
  {
   "cell_type": "markdown",
   "id": "d63732f5-5f28-4130-b7d3-61a8985b21e1",
   "metadata": {},
   "source": [
    "$$ 1 + 2 = 3$$"
   ]
  },
  {
   "cell_type": "code",
   "execution_count": 2,
   "id": "0fcbd133-04f2-4887-81f1-02b3aaa93817",
   "metadata": {},
   "outputs": [
    {
     "data": {
      "text/plain": [
       "(5, 6)"
      ]
     },
     "execution_count": 2,
     "metadata": {},
     "output_type": "execute_result"
    }
   ],
   "source": [
    "2+3, 2*3"
   ]
  },
  {
   "cell_type": "code",
   "execution_count": 3,
   "id": "69a55be2-9654-4880-a504-b472a024a76b",
   "metadata": {},
   "outputs": [
    {
     "data": {
      "text/plain": [
       "2700"
      ]
     },
     "execution_count": 3,
     "metadata": {},
     "output_type": "execute_result"
    }
   ],
   "source": [
    "45 * 60 # Min to Hours"
   ]
  },
  {
   "cell_type": "markdown",
   "id": "4503e863-de2d-4d2f-bc7b-9d633c141552",
   "metadata": {},
   "source": [
    "Objectives\n",
    "- Objective one\n",
    "- Objective two\n",
    "- Objective three"
   ]
  },
  {
   "cell_type": "markdown",
   "id": "0d36592e-51e6-4437-ae33-b600959a4324",
   "metadata": {},
   "source": [
    "> Author: Name"
   ]
  },
  {
   "cell_type": "code",
   "execution_count": null,
   "id": "0dd018e4-0c2e-4a73-94c3-4853b59d3ea1",
   "metadata": {},
   "outputs": [],
   "source": []
  }
 ],
 "metadata": {
  "kernelspec": {
   "display_name": "Python [conda env:base] *",
   "language": "python",
   "name": "conda-base-py"
  },
  "language_info": {
   "codemirror_mode": {
    "name": "ipython",
    "version": 3
   },
   "file_extension": ".py",
   "mimetype": "text/x-python",
   "name": "python",
   "nbconvert_exporter": "python",
   "pygments_lexer": "ipython3",
   "version": "3.12.3"
  }
 },
 "nbformat": 4,
 "nbformat_minor": 5
}
